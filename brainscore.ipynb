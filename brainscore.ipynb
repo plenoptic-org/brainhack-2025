{
 "cells": [
  {
   "cell_type": "code",
   "execution_count": 1,
   "id": "24e48b93-4563-48d0-8878-cce1afa852bd",
   "metadata": {},
   "outputs": [
    {
     "name": "stderr",
     "output_type": "stream",
     "text": [
      "/mnt/sw/nix/store/29h1dijh98y9ar6n8hxv78v8zz2pqfzf-python-3.11.7-view/lib/python3.11/site-packages/numpy/core/getlimits.py:549: UserWarning: The value of the smallest subnormal for <class 'numpy.float64'> type is zero.\n",
      "  setattr(self, word, getattr(machar, word).flat[0])\n",
      "/mnt/sw/nix/store/29h1dijh98y9ar6n8hxv78v8zz2pqfzf-python-3.11.7-view/lib/python3.11/site-packages/numpy/core/getlimits.py:89: UserWarning: The value of the smallest subnormal for <class 'numpy.float64'> type is zero.\n",
      "  return self._float_to_str(self.smallest_subnormal)\n",
      "/mnt/sw/nix/store/29h1dijh98y9ar6n8hxv78v8zz2pqfzf-python-3.11.7-view/lib/python3.11/site-packages/numpy/core/getlimits.py:549: UserWarning: The value of the smallest subnormal for <class 'numpy.float32'> type is zero.\n",
      "  setattr(self, word, getattr(machar, word).flat[0])\n",
      "/mnt/sw/nix/store/29h1dijh98y9ar6n8hxv78v8zz2pqfzf-python-3.11.7-view/lib/python3.11/site-packages/numpy/core/getlimits.py:89: UserWarning: The value of the smallest subnormal for <class 'numpy.float32'> type is zero.\n",
      "  return self._float_to_str(self.smallest_subnormal)\n",
      "/mnt/home/wbroderick/ceph/venvs/plenoptic/lib/python3.11/site-packages/brainscore_core/metrics/__init__.py:16: FutureWarning: xarray subclass Score should explicitly define __slots__\n",
      "  class Score(DataAssembly):\n"
     ]
    }
   ],
   "source": [
    "import plenoptic as po\n",
    "import torch\n",
    "# needed for the plotting/animating:\n",
    "%matplotlib inline\n",
    "import matplotlib.pyplot as plt\n",
    "plt.rcParams['animation.html'] = 'html5'\n",
    "# use single-threaded ffmpeg for animation writer\n",
    "plt.rcParams['animation.writer'] = 'ffmpeg'\n",
    "plt.rcParams['animation.ffmpeg_args'] = ['-threads', '1']\n",
    "import brainscore_vision"
   ]
  },
  {
   "cell_type": "code",
   "execution_count": 2,
   "id": "fafafc8b-e584-4a18-b6f0-753bb2818c49",
   "metadata": {},
   "outputs": [
    {
     "name": "stdout",
     "output_type": "stream",
     "text": [
      "Requirement already satisfied: torch in /mnt/sw/nix/store/29h1dijh98y9ar6n8hxv78v8zz2pqfzf-python-3.11.7-view/lib/python3.11/site-packages (from -r /mnt/home/wbroderick/ceph/venvs/plenoptic/lib/python3.11/site-packages/brainscore_vision/models/alexnet_training_seed_01/requirements.txt (line 1)) (2.2.2)\n",
      "Requirement already satisfied: torchvision in /mnt/sw/nix/store/29h1dijh98y9ar6n8hxv78v8zz2pqfzf-python-3.11.7-view/lib/python3.11/site-packages (from -r /mnt/home/wbroderick/ceph/venvs/plenoptic/lib/python3.11/site-packages/brainscore_vision/models/alexnet_training_seed_01/requirements.txt (line 2)) (0.17.2)\n",
      "Requirement already satisfied: numpy in /mnt/sw/nix/store/29h1dijh98y9ar6n8hxv78v8zz2pqfzf-python-3.11.7-view/lib/python3.11/site-packages (from -r /mnt/home/wbroderick/ceph/venvs/plenoptic/lib/python3.11/site-packages/brainscore_vision/models/alexnet_training_seed_01/requirements.txt (line 3)) (1.26.4)\n",
      "Requirement already satisfied: filelock in /mnt/sw/nix/store/29h1dijh98y9ar6n8hxv78v8zz2pqfzf-python-3.11.7-view/lib/python3.11/site-packages (from torch->-r /mnt/home/wbroderick/ceph/venvs/plenoptic/lib/python3.11/site-packages/brainscore_vision/models/alexnet_training_seed_01/requirements.txt (line 1)) (3.12.4)\n",
      "Requirement already satisfied: typing-extensions>=4.8.0 in /mnt/sw/nix/store/29h1dijh98y9ar6n8hxv78v8zz2pqfzf-python-3.11.7-view/lib/python3.11/site-packages (from torch->-r /mnt/home/wbroderick/ceph/venvs/plenoptic/lib/python3.11/site-packages/brainscore_vision/models/alexnet_training_seed_01/requirements.txt (line 1)) (4.8.0)\n",
      "Requirement already satisfied: sympy in /mnt/sw/nix/store/29h1dijh98y9ar6n8hxv78v8zz2pqfzf-python-3.11.7-view/lib/python3.11/site-packages (from torch->-r /mnt/home/wbroderick/ceph/venvs/plenoptic/lib/python3.11/site-packages/brainscore_vision/models/alexnet_training_seed_01/requirements.txt (line 1)) (1.12)\n",
      "Requirement already satisfied: networkx in /mnt/sw/nix/store/29h1dijh98y9ar6n8hxv78v8zz2pqfzf-python-3.11.7-view/lib/python3.11/site-packages (from torch->-r /mnt/home/wbroderick/ceph/venvs/plenoptic/lib/python3.11/site-packages/brainscore_vision/models/alexnet_training_seed_01/requirements.txt (line 1)) (3.1)\n",
      "Requirement already satisfied: jinja2 in /mnt/sw/nix/store/29h1dijh98y9ar6n8hxv78v8zz2pqfzf-python-3.11.7-view/lib/python3.11/site-packages (from torch->-r /mnt/home/wbroderick/ceph/venvs/plenoptic/lib/python3.11/site-packages/brainscore_vision/models/alexnet_training_seed_01/requirements.txt (line 1)) (3.1.2)\n",
      "Requirement already satisfied: fsspec in /mnt/sw/nix/store/29h1dijh98y9ar6n8hxv78v8zz2pqfzf-python-3.11.7-view/lib/python3.11/site-packages (from torch->-r /mnt/home/wbroderick/ceph/venvs/plenoptic/lib/python3.11/site-packages/brainscore_vision/models/alexnet_training_seed_01/requirements.txt (line 1)) (2024.2.0)\n",
      "Requirement already satisfied: pillow!=8.3.*,>=5.3.0 in /mnt/sw/nix/store/29h1dijh98y9ar6n8hxv78v8zz2pqfzf-python-3.11.7-view/lib/python3.11/site-packages (from torchvision->-r /mnt/home/wbroderick/ceph/venvs/plenoptic/lib/python3.11/site-packages/brainscore_vision/models/alexnet_training_seed_01/requirements.txt (line 2)) (10.3.0)\n",
      "Requirement already satisfied: MarkupSafe>=2.0 in /mnt/sw/nix/store/29h1dijh98y9ar6n8hxv78v8zz2pqfzf-python-3.11.7-view/lib/python3.11/site-packages (from jinja2->torch->-r /mnt/home/wbroderick/ceph/venvs/plenoptic/lib/python3.11/site-packages/brainscore_vision/models/alexnet_training_seed_01/requirements.txt (line 1)) (2.1.3)\n",
      "Requirement already satisfied: mpmath>=0.19 in /mnt/sw/nix/store/29h1dijh98y9ar6n8hxv78v8zz2pqfzf-python-3.11.7-view/lib/python3.11/site-packages (from sympy->torch->-r /mnt/home/wbroderick/ceph/venvs/plenoptic/lib/python3.11/site-packages/brainscore_vision/models/alexnet_training_seed_01/requirements.txt (line 1)) (1.2.1)\n"
     ]
    },
    {
     "name": "stderr",
     "output_type": "stream",
     "text": [
      "\n",
      "\u001b[1m[\u001b[0m\u001b[34;49mnotice\u001b[0m\u001b[1;39;49m]\u001b[0m\u001b[39;49m A new release of pip is available: \u001b[0m\u001b[31;49m23.2.1\u001b[0m\u001b[39;49m -> \u001b[0m\u001b[32;49m25.0.1\u001b[0m\n",
      "\u001b[1m[\u001b[0m\u001b[34;49mnotice\u001b[0m\u001b[1;39;49m]\u001b[0m\u001b[39;49m To update, run: \u001b[0m\u001b[32;49mpip install --upgrade pip\u001b[0m\n"
     ]
    }
   ],
   "source": [
    "model = brainscore_vision.load_model(\"alexnet_training_seed_01\")"
   ]
  },
  {
   "cell_type": "code",
   "execution_count": 6,
   "id": "2ab6d41c-09bb-42b5-89f2-06a0ab8ede6b",
   "metadata": {},
   "outputs": [],
   "source": [
    "img = po.data.einstein(as_gray=False)"
   ]
  },
  {
   "cell_type": "code",
   "execution_count": 7,
   "id": "bb034744-f7a2-448e-9737-e9700f23e152",
   "metadata": {},
   "outputs": [
    {
     "data": {
      "text/plain": [
       "['features.0',\n",
       " 'features.3',\n",
       " 'features.6',\n",
       " 'features.8',\n",
       " 'features.10',\n",
       " 'classifier.0',\n",
       " 'classifier.3']"
      ]
     },
     "execution_count": 7,
     "metadata": {},
     "output_type": "execute_result"
    }
   ],
   "source": [
    "model.layers"
   ]
  },
  {
   "cell_type": "markdown",
   "id": "e640beaf-5f12-47c8-91d8-424e7af03420",
   "metadata": {},
   "source": [
    "This is the closest to what we want, but doesn't work because it's an array. I opened an issue asking about this: https://github.com/brain-score/vision/issues/1848"
   ]
  },
  {
   "cell_type": "code",
   "execution_count": 9,
   "id": "19eb2f88-9742-4709-813d-08190e3fa522",
   "metadata": {},
   "outputs": [
    {
     "data": {
      "text/plain": [
       "array([[[[-0.03183119, -0.07137986, -0.07028133, ..., -0.13093482,\n",
       "          -0.13773026, -0.14289752],\n",
       "         [ 0.00866095, -0.03185615, -0.02673588, ..., -0.00236804,\n",
       "           0.00675652,  0.01545219],\n",
       "         [-0.00097706, -0.02782646, -0.02377863, ...,  0.00822555,\n",
       "           0.01076168,  0.01257422],\n",
       "         ...,\n",
       "         [-0.010067  ,  0.008357  , -0.00588647, ..., -0.01606587,\n",
       "          -0.00906129, -0.05031919],\n",
       "         [ 0.07146211,  0.01355707,  0.01932907, ..., -0.00365354,\n",
       "          -0.01073883, -0.02871715],\n",
       "         [ 0.056048  , -0.00615223,  0.0337909 , ..., -0.02147131,\n",
       "          -0.0192689 , -0.00345173]],\n",
       "\n",
       "        [[ 0.12682383,  0.06176891,  0.05895561, ...,  0.23414214,\n",
       "           0.23561056,  0.2394116 ],\n",
       "         [ 0.13008137,  0.04793375,  0.05039325, ...,  0.20334147,\n",
       "           0.21875124,  0.22482489],\n",
       "         [ 0.1375053 ,  0.04542324,  0.05058498, ...,  0.20320639,\n",
       "           0.2091302 ,  0.22059263],\n",
       "         ...,\n",
       "         [ 0.25198165,  0.10814154,  0.13949478, ...,  0.07172205,\n",
       "           0.05652928,  0.05453675],\n",
       "         [ 0.34236133,  0.18911923,  0.16360083, ...,  0.07286909,\n",
       "           0.06112773,  0.06427555],\n",
       "         [ 0.35108206,  0.1298972 ,  0.15415557, ...,  0.07373261,\n",
       "           0.06562017,  0.05070952]],\n",
       "\n",
       "        [[-0.04780476, -0.07914506, -0.08132578, ..., -0.25870162,\n",
       "          -0.27189025, -0.29392925],\n",
       "         [-0.02209096, -0.04633519, -0.0472308 , ..., -0.19679543,\n",
       "          -0.18810299, -0.19940436],\n",
       "         [-0.01921411, -0.04953142, -0.05255763, ..., -0.19595122,\n",
       "          -0.191722  , -0.19766316],\n",
       "         ...,\n",
       "         [-0.01610599, -0.07816818, -0.12441433, ..., -0.0850495 ,\n",
       "          -0.0833617 , -0.05124126],\n",
       "         [-0.07014982, -0.10909616, -0.16895518, ..., -0.08806206,\n",
       "          -0.08645088, -0.06913758],\n",
       "         [-0.09198101, -0.16598189, -0.18497998, ..., -0.10315508,\n",
       "          -0.08561431, -0.05910125]],\n",
       "\n",
       "        ...,\n",
       "\n",
       "        [[ 0.06887253,  0.02528404,  0.02514431, ...,  0.06673871,\n",
       "           0.08270258,  0.08641198],\n",
       "         [ 0.07202609,  0.02473828,  0.01146844, ...,  0.04634759,\n",
       "           0.06533906,  0.06029747],\n",
       "         [ 0.07148409,  0.02293496,  0.01177656, ...,  0.04481666,\n",
       "           0.06279331,  0.06744657],\n",
       "         ...,\n",
       "         [ 0.12313463,  0.02406518,  0.04284347, ...,  0.01874766,\n",
       "          -0.00365599, -0.00944742],\n",
       "         [ 0.08816801,  0.06849362,  0.04122787, ...,  0.00816265,\n",
       "           0.00872617,  0.00325037],\n",
       "         [ 0.13453874,  0.03856735,  0.05015246, ...,  0.0194011 ,\n",
       "           0.01266073, -0.01587933]],\n",
       "\n",
       "        [[ 0.05056012,  0.0376902 ,  0.04063172, ...,  0.12972876,\n",
       "           0.12491523,  0.12228769],\n",
       "         [ 0.08596934,  0.08268825,  0.08078665, ...,  0.24765989,\n",
       "           0.2673258 ,  0.2617675 ],\n",
       "         [ 0.08901015,  0.08090879,  0.08918916, ...,  0.24525437,\n",
       "           0.2586913 ,  0.26389956],\n",
       "         ...,\n",
       "         [ 0.09285367,  0.06605443,  0.16866364, ...,  0.11993132,\n",
       "           0.10630341,  0.10829037],\n",
       "         [ 0.12161626,  0.15609759,  0.165435  , ...,  0.11934942,\n",
       "           0.1089582 ,  0.08570121],\n",
       "         [ 0.19583665,  0.17869826,  0.18141693, ...,  0.11638933,\n",
       "           0.10969526,  0.08679052]],\n",
       "\n",
       "        [[-0.07597917, -0.04191413, -0.04817288, ..., -0.11388072,\n",
       "          -0.11646916, -0.11412673],\n",
       "         [-0.07456759, -0.04444516, -0.03533783, ..., -0.08005041,\n",
       "          -0.08839369, -0.08413641],\n",
       "         [-0.07474902, -0.04197783, -0.03627752, ..., -0.07796694,\n",
       "          -0.09041207, -0.08137897],\n",
       "         ...,\n",
       "         [-0.13551423, -0.05086245, -0.07358355, ..., -0.02976738,\n",
       "          -0.02378764, -0.03404424],\n",
       "         [-0.12447987, -0.05998415, -0.0289152 , ..., -0.01574437,\n",
       "          -0.02148274, -0.02944846],\n",
       "         [-0.11824442, -0.07143244, -0.06174628, ..., -0.04758967,\n",
       "          -0.04275295, -0.0317575 ]]]], dtype=float32)"
      ]
     },
     "execution_count": 9,
     "metadata": {},
     "output_type": "execute_result"
    }
   ],
   "source": [
    "model.activations_model.get_activations(img, model.layers)['features.0']"
   ]
  }
 ],
 "metadata": {
  "kernelspec": {
   "display_name": "plenoptic_venv",
   "language": "python",
   "name": "plenoptic_venv"
  },
  "language_info": {
   "codemirror_mode": {
    "name": "ipython",
    "version": 3
   },
   "file_extension": ".py",
   "mimetype": "text/x-python",
   "name": "python",
   "nbconvert_exporter": "python",
   "pygments_lexer": "ipython3",
   "version": "3.11.7"
  }
 },
 "nbformat": 4,
 "nbformat_minor": 5
}
